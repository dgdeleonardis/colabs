{
  "nbformat": 4,
  "nbformat_minor": 0,
  "metadata": {
    "colab": {
      "provenance": [],
      "collapsed_sections": [
        "uPxQfh0oxHIh",
        "92NUAzca82m9",
        "6lyfluPk9G8h",
        "7jbPuC4NGlt6",
        "4zvuayE9BdED",
        "G-bTpQdOLum5",
        "QjluRuOVMqk6"
      ],
      "mount_file_id": "https://gist.github.com/dgdeleonardis/acb5adda006d56bf534b9858485fbd60#file-recap_risultati-ipynb",
      "authorship_tag": "ABX9TyNWNF3aM6vYiqJOvybu/gSR",
      "include_colab_link": true
    },
    "kernelspec": {
      "name": "python3",
      "display_name": "Python 3"
    },
    "language_info": {
      "name": "python"
    }
  },
  "cells": [
    {
      "cell_type": "markdown",
      "metadata": {
        "id": "view-in-github",
        "colab_type": "text"
      },
      "source": [
        "<a href=\"https://colab.research.google.com/github/dgdeleonardis/colabs/blob/main/recap_risultati.ipynb\" target=\"_parent\"><img src=\"https://colab.research.google.com/assets/colab-badge.svg\" alt=\"Open In Colab\"/></a>"
      ]
    },
    {
      "cell_type": "markdown",
      "source": [
        "## **Recap fase di testing**"
      ],
      "metadata": {
        "id": "NCUOtIiqwAwR"
      }
    },
    {
      "cell_type": "markdown",
      "source": [
        "## Introduzione\n",
        "All'interno di ```gym-malware``` nella sua versione originale sono presenti due **environment**: **```malware-v0```** e **```malware-score-v0```**.\n",
        "La differenza tra questi è nella **policy di reward**:\n",
        "- **`malware-v0`**: \\\\\n",
        "  → ```win reward```: ```10```; \\\\\n",
        "  → ```lose reward```: ```0```; \\\\\n",
        "  → ```intermediate reward```: ```0```; \\\\\n",
        "- **```malware-score-v0```**: \\\\\n",
        "  → `win reward`: ``10``; \\\\\n",
        "  → ```lose reward```: ```0```; \\\\\n",
        "  → `intermediate reward`: `original_score - score`, dove: \\\\\n",
        "    - `original_score` ≜ *`score_function(bytes_original_malware)`* ⟺ ... ⟺ *`local_model.predict_proba(features)`*\n",
        "    - `score` ≜ *`score_function(bytes_current_malware)`* ⟺ ...⟺ *`local_model.predict_proba(features)`* \\\\\n",
        "È in sostanza la **differenza** tra la **probabilità iniziale** e quella all'**operazione i-esima** che il sample sia etichettato come malware dal modello.\n",
        "\n",
        "È noto che l'environment **`malware-score-v0`**, il quale non è propriamente *full black-blox, ha delle prestazioni nettamente migliori rispetto al *full black-box* *`malware-v0`*. \\\\\n",
        "L'obiettivo è quello di definire un environment che non utilizzi nessuna informazione data dal classificatore, ma che allo stesso tempo abbia delle prestazioni equiparabili al **`malware-score-v0`**."
      ],
      "metadata": {
        "id": "8ElB9rNyx_y4"
      }
    },
    {
      "cell_type": "markdown",
      "source": [
        "## Metodologia del testing\n",
        "Per la fase di testing è stato definito uno script che implementa una **\"false\" K-fold cross validation**. \\\\\n",
        "Nello specifico: *dato un environment specificato dall'utente viene partizionato il dataset in **K partizioni** (la scelta dei samples non è sequenziale, ma bensì casuale) e **ciclicamente** vengono effettuate delle fasi di **training + test** utilizzando K-1 partizioni come training set e la restante partizione come test set.*"
      ],
      "metadata": {
        "id": "T3KCmqanBx5D"
      }
    },
    {
      "cell_type": "code",
      "source": [
        "# imports\n",
        "import pickle\n",
        "from datetime import datetime, date\n",
        "import sys\n",
        "import csv\n",
        "import os\n",
        "import numpy as np\n",
        "import random\n",
        "\n",
        "from gym.envs.registration import register\n",
        "\n",
        "from test_agent_kerasrl import evaluate, model_policy\n",
        "from train_agent_kerasrl import train_dqn_model\n",
        "from gym_malware import MAXTURNS\n",
        "from gym_malware import sha256  as dataset, sha256_holdout # dataset\n",
        "\n",
        "\n",
        "# inizializzazione e scelta dell'environment\n",
        "K = 5\n",
        "rounds = int((len(dataset)/K)*(K-1)*10)\n",
        "testDate = date.today()\n",
        "\n",
        "env_name = sys.argv[1]\n",
        "if env_name == 'malware_env':\n",
        "    setup_dict = { \"id\": \"malware{}-v0\",\n",
        "        \"id_test\": \"malware{}-test-v0\",\n",
        "        \"entry_point\": \"gym_malware.envs:MalwareEnv\",\n",
        "        \"model_filename\": \"dqn_{}.h5\"\n",
        "    }\n",
        "elif env_name == 'malware_score_env':\n",
        "    setup_dict = { \"id\": \"malware{}-score-v0\",\n",
        "        \"id_test\": \"malware{}-score-test-v0\",\n",
        "        \"entry_point\": \"gym_malware.envs:MalwareScoreEnv\",\n",
        "        \"model_filename\": \"dqn_score_{}.h5\"\n",
        "    }\n",
        "elif env_name == 'malware_table_env':\n",
        "    setup_dict = { \"id\": \"malware{}-table-v0\",\n",
        "        \"id_test\": \"malware{}-table-test-v0\",\n",
        "        \"entry_point\": \"gym_malware.envs:MalwareTableEnv\",\n",
        "        \"model_filename\": \"dqn_table__{}.h5\"\n",
        "    }\n",
        "elif env_name == 'malware_table_scaled_env':\n",
        "    setup_dict = { \"id\": \"malware{}-table-scaled-v0\",\n",
        "        \"id_test\": \"malware{}-table-scaled-test-v0\",\n",
        "        \"entry_point\": \"gym_malware.envs:MalwareTableScaledEnv\",\n",
        "        \"model_filename\": \"dqn_table_scaled_{}.h5\"\n",
        "    }\n",
        "elif env_name == 'malware_table_softmax_env':\n",
        "    setup_dict = { \"id\": \"malware{}-table-softmax-v0\",\n",
        "        \"id_test\": \"malware{}-table-softmax-test-v0\",\n",
        "        \"entry_point\": \"gym_malware.envs:MalwareTableSoftmaxEnv\",\n",
        "        \"model_filename\": \"dqn_table_softmax_{}.h5\"\n",
        "    }\n",
        "else:\n",
        "    print(\"Env not defined!\")\n",
        "    exit()\n",
        "\n",
        "def open_logfile(logfile_path=\"k-fold_crossvalidation-kerasrl-{}-{}.cvs\".format(setup_dict[\"id\"].format(\"\"), testDate)):\n",
        "\texist = os.path.exists(logfile_path)\n",
        "\tlogfile = open(logfile_path, \"a\")\n",
        "\twriter = csv.writer(logfile)\n",
        "\tif not exist:\n",
        "\t\theader = [ \"model_filename\",  \"env_name\", \"training_rounds\", \"test_episodes\", \"success\", \"misclassified\"]\n",
        "\t\twriter.writerow(header)\n",
        "\treturn logfile, writer\n",
        "\n",
        "\n",
        "if __name__ == \"__main__\":\n",
        "    \n",
        "    # creo K partizioni partendo dal dataset\n",
        "    aux_list = dataset.copy()\n",
        "    folds = [[] for _ in range(0, K)]\n",
        "    i = 0\n",
        "    while len(aux_list) != 0:\n",
        "      # scelgo casualmente un elemento del dataset e lo aggiungo al fold i-esimo\n",
        "      entry = random.choice(aux_list)  \n",
        "      folds[i].append(entry)\n",
        "      aux_list.remove(entry)\n",
        "      i = (i + 1) % K\n",
        "\n",
        "    # eseguo per K volte addestramento + test utilizzando ad ogni ciclo una diversa\n",
        "    # partizione per il test e utilizzando le rimanenti K-1 per il training\n",
        "    arr = [*range(0, K)]\n",
        "    while len(arr) != 0:\n",
        "        test_index = random.choice(arr)\n",
        "        training_indexes = [x for x in range(0, K) if x != test_index]\n",
        "        arr.remove(test_index)\n",
        "        test_set = folds[test_index]\n",
        "        # creo il training set\n",
        "        training_set = []\n",
        "        for i in training_indexes:\n",
        "            training_set.extend(folds[i])\n",
        "        \n",
        "        register(\n",
        "            id=setup_dict[\"id\"].format(test_index),\n",
        "            entry_point=setup_dict[\"entry_point\"],\n",
        "            kwargs={'random_sample': True, 'maxturns': MAXTURNS, 'sha256list': training_set}\n",
        "        )\n",
        "        # fase di training con numero di round pari a MAXTURNS*len(training_set)\n",
        "        print(\"---------- START TRAINING ----------\\n\")\n",
        "        print(\"ROUNDS:\", rounds)\n",
        "        agent, model, history_train, history_test = train_dqn_model([1024, 256], rounds=rounds, run_test=False, env_name=setup_dict[\"id\"].format(test_index))\n",
        "        print(\"---------- END TRAINING ----------\")\n",
        "        \n",
        "        date = datetime.now().strftime(\"%d%m%Y-%H:%M:%S\")\n",
        "        model_filename = setup_dict[\"model_filename\"].format(date)\n",
        "        model.save('models/{}'.format(model_filename), overwrite=True)\n",
        "        \n",
        "        with open('histories/history_malware_env-test_ {}.pickle'.format(date), 'wb') as f:\n",
        "            pickle.dump(history_test, f, pickle.HIGHEST_PROTOCOL)\n",
        "\n",
        "        register(\n",
        "            id=setup_dict[\"id_test\"].format(test_index),\n",
        "            entry_point=setup_dict[\"entry_point\"],\n",
        "            kwargs={'random_sample': False, 'maxturns': MAXTURNS, 'sha256_holdout': test_set}\n",
        "        )\n",
        "        # fase di test \n",
        "        print(\"---------- START TEST ----------\")\n",
        "        success, misclassified = evaluate(model_policy(model), model_filename, test_set)\n",
        "        print(\"---------- END TEST ----------\")\n",
        "        total = len(sha256_holdout) - len(misclassified) # don't count misclassified towards success\n",
        "\n",
        "        # output \n",
        "        print(\"Success rate (black-box): {}\\n\".format( len(success) / total ))\n",
        "        print(\"Misclassified (black-box): {}\".format(len(misclassified)))\n",
        "        logfile, csv_writer = open_logfile()\n",
        "        data = [ model_filename,\n",
        "\t\t      setup_dict[\"id\"].format(''),\n",
        "\t\t      rounds,\n",
        "\t\t      len(test_set),\n",
        "\t\t      len(success),\n",
        "          len(misclassified)\n",
        "\t      ]\n",
        "        csv_writer.writerow(data)\n",
        "        logfile.close()"
      ],
      "metadata": {
        "id": "da1drgaHI_IT"
      },
      "execution_count": null,
      "outputs": []
    },
    {
      "cell_type": "markdown",
      "source": [
        "Seguendo le indicazioni del paper di *Anderson et al.* da cui è tratto `gym-malware`, l'**accuracy** dell'agente è ottenuta andando ad eliminare dal totale i sample classificati erroneamente come benigni dal modello: $\\frac{\\texttt{succes}}{\\texttt{total}-\\texttt{misclassified}}$ \\\\\n",
        "Ogni test è stato effettuato con un **K** pari a **5** avendo quindi un numero di **round** pari all'incirca a **12k** *(1200 circa sample)* per il **training** e un numero di sample per la **fase di test** pari a **309/310**. \\\\\n",
        "Con la funzione `evaluate(...)` così definita:"
      ],
      "metadata": {
        "id": "EC8qoTA_LYg6"
      }
    },
    {
      "cell_type": "code",
      "source": [
        "def evaluate( action_function, model_name):\n",
        "    success=[]\n",
        "    misclassified = []\n",
        "    count = 0\n",
        "    for sha256 in sha256_holdout:\n",
        "        count = count + 1\n",
        "        print(\"sample:\", count, \"/\", len(sha256_holdout), \"of {}\\n\".format(model_name))\n",
        "        success_dict = defaultdict(list)\n",
        "        bytez = interface.fetch_file(sha256)\n",
        "        label = interface.get_label_local(bytez)\n",
        "        if label == 0.0:\n",
        "            misclassified.append(sha256)\n",
        "            continue # already misclassified, move along\n",
        "        for _ in range(MAXTURNS):\n",
        "            action = action_function( bytez )\n",
        "            print(action)\n",
        "            success_dict[sha256].append(action)\n",
        "            bytez = manipulate.modify_without_breaking( bytez, [action] )\n",
        "            new_label = interface.get_label_local( bytez )   # test against local classifier\n",
        "            if new_label == 0.0:\n",
        "                success.append(success_dict)\n",
        "                break\n",
        "    return success, misclassified # evasion accuracy is len(success) / len(sha256_holdout)"
      ],
      "metadata": {
        "id": "lQUEzGFmPFgG"
      },
      "execution_count": null,
      "outputs": []
    },
    {
      "cell_type": "markdown",
      "source": [],
      "metadata": {
        "id": "xrW0zA4lO7F1"
      }
    },
    {
      "cell_type": "markdown",
      "source": [
        "## Script per la lettura e visualizzazione dei dati"
      ],
      "metadata": {
        "id": "uPxQfh0oxHIh"
      }
    },
    {
      "cell_type": "code",
      "source": [
        "import csv\n",
        "import numpy as np\n",
        "import matplotlib.pyplot as plt"
      ],
      "metadata": {
        "id": "UzCmwRUSsqfK"
      },
      "execution_count": 5,
      "outputs": []
    },
    {
      "cell_type": "code",
      "source": [
        "def get_results(filename):\n",
        "  logfile = open(filename, 'r')\n",
        "  reader = csv.reader(logfile)\n",
        "  data = []\n",
        "  next(reader) # escludo la riga di intestazione\n",
        "  for row in reader:\n",
        "    data.append({\n",
        "        \"model\": row[0],\n",
        "        \"env\": row[1],\n",
        "        \"rounds\": int(row[2]),\n",
        "        \"test_samples\": int(row[3]),\n",
        "        \"success\": int(row[4]),\n",
        "        \"misclassified\": int(row[5])\n",
        "    })\n",
        "  return data"
      ],
      "metadata": {
        "id": "3JGeSHgDq6BP"
      },
      "execution_count": 6,
      "outputs": []
    },
    {
      "cell_type": "code",
      "source": [
        "def get_accuracy(test_data):\n",
        "  accuracy = list()\n",
        "  for x in test_data:\n",
        "    accuracy.append(x['success']/(x['test_samples']-x['misclassified']))\n",
        "  return accuracy"
      ],
      "metadata": {
        "id": "uWqraP6QviBH"
      },
      "execution_count": 7,
      "outputs": []
    },
    {
      "cell_type": "code",
      "source": [
        "def plot_bar_acc(arr_accuracy):\n",
        "  plt.bar([str(_) for _ in range(1, len(arr_accuracy)+1)],arr_accuracy)\n",
        "  plt.axhline(y = np.average(arr_accuracy), color = 'r', linestyle = 'dashed')\n",
        "  plt.show()"
      ],
      "metadata": {
        "id": "OazayhY7zVuK"
      },
      "execution_count": 8,
      "outputs": []
    },
    {
      "cell_type": "markdown",
      "source": [
        "## **`malware-v0`**"
      ],
      "metadata": {
        "id": "hyPE4shBqq2k"
      }
    },
    {
      "cell_type": "markdown",
      "source": [
        "### *Codice*"
      ],
      "metadata": {
        "id": "92NUAzca82m9"
      }
    },
    {
      "cell_type": "code",
      "source": [
        "label_function = interface.get_label_local\n",
        "\n",
        "\n",
        "class MalwareEnv(gym.Env):\n",
        "    metadata = {'render.modes': ['human']}\n",
        "\n",
        "    def __init__(self, sha256list, random_sample=True, maxturns=3, output_path='evaded/blackbox/', cache=False):\n",
        "        self.cache = cache\n",
        "        self.available_sha256 = sha256list\n",
        "        self.action_space = spaces.Discrete(len(ACTION_LOOKUP))\n",
        "        self.maxturns = maxturns\n",
        "        self.feature_extractor = pefeatures.PEFeatureExtractor()\n",
        "        self.random_sample = random_sample\n",
        "        self.sample_iteration_index = 0\n",
        "        self.output_path = os.path.join(\n",
        "            os.path.dirname(\n",
        "                os.path.dirname(\n",
        "                    os.path.dirname(\n",
        "                        os.path.abspath(__file__)))), output_path)\n",
        "        if not os.path.exists(output_path):\n",
        "            os.makedirs(output_path)\n",
        "\n",
        "        self.history = OrderedDict()\n",
        "\n",
        "        self.samples = {}\n",
        "        if self.cache:\n",
        "            for sha256 in self.available_sha256:\n",
        "                try:\n",
        "                    self.samples[sha256] = interface.fetch_file(self.sha256)\n",
        "                except interface.FileRetrievalFailure:\n",
        "                    print(\"failed fetching file\")\n",
        "                    continue  # try a new sha256...this one can't be retrieved from storage\n",
        "\n",
        "        self._reset()\n",
        "\n",
        "    def _step(self, action_index):\n",
        "        self.turns += 1\n",
        "        self._take_action(action_index) # update self.bytez\n",
        "\n",
        "        # get reward\n",
        "        try:\n",
        "            self.label = label_function(self.bytez)\n",
        "        except interface.ClassificationFailure:\n",
        "            print(\"Failed to classify file\")\n",
        "            episode_over = True\n",
        "        else:\n",
        "            self.observation_space = self.feature_extractor.extract(self.bytez)\n",
        "            if self.label == 0:\n",
        "                # we win!\n",
        "                reward = 10.0 # !! a strong reward\n",
        "                episode_over = True\n",
        "                self.history[self.sha256]['evaded'] = True\n",
        "\n",
        "                # store sample to output directory\n",
        "                m = hashlib.sha256()\n",
        "                m.update( self.bytez )\n",
        "                sha256 = m.hexdigest()\n",
        "                self.history[self.sha256]['evaded_sha256'] = sha256\n",
        "                \n",
        "                with open( os.path.join( self.output_path, sha256), 'wb') as outfile:\n",
        "                    outfile.write( self.bytez )\n",
        "            elif self.turns >= self.maxturns:\n",
        "                # out of turns :(\n",
        "                reward = 0.0\n",
        "                episode_over = True\n",
        "            else:\n",
        "                reward = 0.0\n",
        "                episode_over = False\n",
        "\n",
        "        if episode_over:\n",
        "            print(\"episode is over: reward = {}!\".format(reward))\n",
        "\n",
        "        return self.observation_space, reward, episode_over, {}\n",
        "\n",
        "    def _take_action(self, action_index):\n",
        "        assert action_index < len(ACTION_LOOKUP)\n",
        "        action = ACTION_LOOKUP[action_index]\n",
        "        print(action)\n",
        "        self.history[self.sha256]['actions'].append(action)\n",
        "        self.bytez = bytes( manipulate.modify_without_breaking(self.bytez, [action]))\n",
        "\n",
        "    def _reset(self):\n",
        "        self.turns = 0\n",
        "        while True:\n",
        "            # get the new environment\n",
        "            if self.random_sample:\n",
        "                self.sha256 = random.choice(self.available_sha256)\n",
        "            else: # draw a sample at random\n",
        "                self.sha256 = self.available_sha256[ self.sample_iteration_index % len(self.available_sha256) ]\n",
        "                self.sample_iteration_index += 1\n",
        "\n",
        "            self.history[self.sha256] = {'actions': [], 'evaded': False}\n",
        "            if self.cache:\n",
        "                self.bytez = self.samples[self.sha256]\n",
        "            else:\n",
        "                try:\n",
        "                    self.bytez = interface.fetch_file(self.sha256)\n",
        "                except interface.FileRetrievalFailure:\n",
        "                    print(\"failed fetching file\")\n",
        "                    continue  # try a new sha256...this one can't be retrieved from storage\n",
        "\n",
        "            original_label = label_function(self.bytez)            \n",
        "            if original_label == 0:\n",
        "                # skip this one, it's already benign, and the agent will learn nothing\n",
        "                continue\n",
        "\n",
        "            print(\"new sha256: {}\".format(self.sha256))                \n",
        "\n",
        "            self.observation_space = self.feature_extractor.extract(self.bytez)\n",
        "\n",
        "            break  # we're done here\n",
        "\n",
        "        return np.asarray(self.observation_space)\n",
        "\n",
        "    def _render(self, mode='human', close=False):\n",
        "        pass"
      ],
      "metadata": {
        "id": "3L1xKVbv9FWh"
      },
      "execution_count": null,
      "outputs": []
    },
    {
      "cell_type": "markdown",
      "source": [
        "### *Risultati*"
      ],
      "metadata": {
        "id": "6lyfluPk9G8h"
      }
    },
    {
      "cell_type": "code",
      "source": [
        "filename = \"/content/drive/MyDrive/k-fold_crossvalidation-kerasrl-malware-v0-2022-12-02.cvs\""
      ],
      "metadata": {
        "id": "z3-84P8yx7cD"
      },
      "execution_count": 9,
      "outputs": []
    },
    {
      "cell_type": "code",
      "source": [
        "data = get_results(filename)\n",
        "arr_accuracy = np.array(get_accuracy(data))\n",
        "avg_accuracy = np.average(arr_accuracy)"
      ],
      "metadata": {
        "id": "vyEtHoNttSTa"
      },
      "execution_count": 10,
      "outputs": []
    },
    {
      "cell_type": "code",
      "source": [
        "print(\"Accuracy:\")\n",
        "for i in range(0, len(arr_accuracy)):\n",
        "  print(\"-> n.{}: {}% ({})\".format(i, np.round(arr_accuracy[i]*100, decimals=2), arr_accuracy[i]))\n",
        "print(\"Average accuracy: {}% ({})\".format(np.round(avg_accuracy*100, decimals=2), avg_accuracy))"
      ],
      "metadata": {
        "colab": {
          "base_uri": "https://localhost:8080/"
        },
        "id": "06H2WmCEyE6m",
        "outputId": "af173672-d09c-463f-da34-ea60aefdbcc9"
      },
      "execution_count": 11,
      "outputs": [
        {
          "output_type": "stream",
          "name": "stdout",
          "text": [
            "Accuracy:\n",
            "-> n.0: 39.63% (0.39634146341463417)\n",
            "-> n.1: 42.48% (0.42483660130718953)\n",
            "-> n.2: 3.33% (0.03333333333333333)\n",
            "-> n.3: 35.06% (0.35064935064935066)\n",
            "-> n.4: 30.71% (0.30714285714285716)\n",
            "Average accuracy: 30.25% (0.3024607211694729)\n"
          ]
        }
      ]
    },
    {
      "cell_type": "code",
      "source": [
        "plot_bar_acc(arr_accuracy)"
      ],
      "metadata": {
        "colab": {
          "base_uri": "https://localhost:8080/",
          "height": 0
        },
        "id": "tbOBUzKZzzF4",
        "outputId": "3dc10d76-c148-48c8-9fad-c01b407ab073"
      },
      "execution_count": 12,
      "outputs": [
        {
          "output_type": "display_data",
          "data": {
            "text/plain": [
              "<Figure size 432x288 with 1 Axes>"
            ],
            "image/png": "[encoded data removed]"
          },
          "metadata": {
            "needs_background": "light"
          }
        }
      ]
    },
    {
      "cell_type": "markdown",
      "source": [
        "## **`malware-score-v0`**"
      ],
      "metadata": {
        "id": "AO0GxwJlGaUa"
      }
    },
    {
      "cell_type": "markdown",
      "source": [
        "### *Risultati*"
      ],
      "metadata": {
        "id": "XG3E4R_1mxIA"
      }
    },
    {
      "cell_type": "code",
      "source": [
        "filename = \"/content/drive/MyDrive/k-fold_crossvalidation-kerasrl-malware-score-v0-2022-12-13.cvs\""
      ],
      "metadata": {
        "id": "1YyjskPRm6zT"
      },
      "execution_count": 13,
      "outputs": []
    },
    {
      "cell_type": "code",
      "source": [
        "data = get_results(filename)\n",
        "arr_accuracy = np.array(get_accuracy(data))\n",
        "avg_score_accuracy = np.average(arr_accuracy)"
      ],
      "metadata": {
        "id": "1tHCS1dEm6zV"
      },
      "execution_count": 14,
      "outputs": []
    },
    {
      "cell_type": "code",
      "source": [
        "print(\"Accuracy:\")\n",
        "for i in range(0, len(arr_accuracy)):\n",
        "  print(\"-> n.{}: {}% ({})\".format(i, np.round(arr_accuracy[i]*100, decimals=2), arr_accuracy[i]))\n",
        "print(\"Average accuracy: {}% ({})\".format(np.round(avg_score_accuracy*100, decimals=2), avg_score_accuracy))"
      ],
      "metadata": {
        "colab": {
          "base_uri": "https://localhost:8080/"
        },
        "outputId": "aed779d7-6425-4cbd-d6a8-6b02ca999dfd",
        "id": "HF6TDwEkm6zV"
      },
      "execution_count": 15,
      "outputs": [
        {
          "output_type": "stream",
          "name": "stdout",
          "text": [
            "Accuracy:\n",
            "-> n.0: 34.15% (0.34146341463414637)\n",
            "-> n.1: 32.0% (0.32)\n",
            "-> n.2: 16.44% (0.1643835616438356)\n",
            "-> n.3: 8.7% (0.08695652173913043)\n",
            "-> n.4: 43.57% (0.4357142857142857)\n",
            "Average accuracy: 26.97% (0.26970355674627966)\n"
          ]
        }
      ]
    },
    {
      "cell_type": "code",
      "source": [
        "plot_bar_acc(arr_accuracy)"
      ],
      "metadata": {
        "colab": {
          "base_uri": "https://localhost:8080/",
          "height": 265
        },
        "outputId": "2788e6b5-56e3-4632-eb29-55464ca6bf8a",
        "id": "7R9GQmBbm6zW"
      },
      "execution_count": 16,
      "outputs": [
        {
          "output_type": "display_data",
          "data": {
            "text/plain": [
              "<Figure size 432x288 with 1 Axes>"
            ],
            "image/png": "[encoded data removed]"
          },
          "metadata": {
            "needs_background": "light"
          }
        }
      ]
    },
    {
      "cell_type": "markdown",
      "source": [
        "## **`malware-table-v0`**\n",
        "**`malware-table-v0`** è il primo esperimento per la definizione di un environment che migliori le prestazioni del basilare **`malware-v0`**. \\\\\n",
        "L'idea alla base è quello di impiegare una **policy di reward** *naif* che vada a premiare le action che statisticamente sono maggiormente presenti nei casi vincenti. \\\\\n",
        "Pertanto nella fase di training è definita un dizionario in cui ad ogni *action* è asseganto il seguente valore: \\\\\n",
        "   `name_action` → $\\frac{\\texttt{num_winning_episodes_with_name_action}}{\\texttt{num_winning_episodes}}$ \\\\\n",
        "   E pertanto la funzione di assegnazione dei reward sarà: \\\\\n",
        "    → ```win reward```: ```10```; \\\\\n",
        "    → ```lose reward```: ```0```; \\\\\n",
        "    → ```intermediate reward```: ```actions_table[action]```; \\\\\n",
        "   "
      ],
      "metadata": {
        "id": "W2nWpSW8Gsl3"
      }
    },
    {
      "cell_type": "markdown",
      "source": [
        "### *Codice*"
      ],
      "metadata": {
        "id": "7jbPuC4NGlt6"
      }
    },
    {
      "cell_type": "code",
      "source": [
        "label_function = interface.get_label_local\n",
        "\n",
        "\n",
        "class MalwareTableEnv(gym.Env):\n",
        "    metadata = {'render.modes': ['human']}\n",
        "\n",
        "    def __init__(self, sha256list, random_sample=False, maxturns=3, output_path='evaded/table/', cache=False):\n",
        "        self.cache = cache\n",
        "        self.available_sha256 = sha256list\n",
        "        self.action_space = spaces.Discrete(len(ACTION_LOOKUP))\n",
        "        self.maxturns = maxturns\n",
        "        self.feature_extractor = pefeatures.PEFeatureExtractor()\n",
        "        self.random_sample = random_sample\n",
        "        self.sample_iteration_index = 0\n",
        "\n",
        "        self.count_turns = 0\n",
        "        self.count_episodes = -1\n",
        "        self.count_won_episodes = 0\n",
        "        print(\"LEN SHA256:\", len(sha256list))\n",
        "        # create actions table\n",
        "        self.actions_table = dict.fromkeys(manipulate.ACTION_TABLE.keys(), 0.0)\n",
        "        self.actions_table_normalized = dict.fromkeys(manipulate.ACTION_TABLE.keys(), 0.0)\n",
        "        self.output_path = os.path.join(\n",
        "            os.path.dirname(\n",
        "                os.path.dirname(\n",
        "                    os.path.dirname(\n",
        "                        os.path.abspath(__file__)))), output_path)\n",
        "        if not os.path.exists(output_path):\n",
        "            os.makedirs(output_path)\n",
        "\n",
        "        self.history = OrderedDict()\n",
        "\n",
        "        self.samples = {}\n",
        "        if self.cache:\n",
        "            for sha256 in self.available_sha256:\n",
        "                try:\n",
        "                    self.samples[sha256] = interface.fetch_file(self.sha256)\n",
        "                except interface.FileRetrievalFailure:\n",
        "                    print(\"failed fetching file\")\n",
        "                    continue  # try a new sha256...this one can't be retrieved from storage\n",
        "\n",
        "        self._reset()\n",
        "\n",
        "    def unique(actions):\n",
        "        return list(set(actions))\n",
        "\n",
        "    def _table_update(self, reward, turns, actions):\n",
        "        # print(\"reward:\", reward, \"\\t| value:\", value) # DEBUG INSTRUCTION\n",
        "        if reward == 10:\n",
        "            value = 1\n",
        "        else:\n",
        "            value = 0\n",
        "        print(actions)\n",
        "        print(type(actions))\n",
        "        for action in list(set(actions)):\n",
        "            self.actions_table[action] += value\n",
        "        \n",
        "        self.actions_table_normalized = self.actions_table.copy()\n",
        "        for key in self.actions_table_normalized:\n",
        "            self.actions_table_normalized[key] = self.actions_table_normalized[key] / self.count_won_episodes\n",
        "        print(\"table:\", self.actions_table) # DEBUG INSTRUCTION\n",
        "        print(\"table normalized:\", self.actions_table_normalized) # DEBUG INSTRUCTION\n",
        "        print(\"EPISODES:\", self.count_episodes) # DEBUG INSTRUCTION\n",
        "\n",
        "\n",
        "\n",
        "    def _step(self, action_index):\n",
        "        self.turns += 1\n",
        "        self._take_action(action_index) # update self.bytez\n",
        "        self.count_turns += 1\n",
        "        print(\"EPISODE: {}; STEP N.{}; TOTAL STEP: {}\". format(self.count_episodes, self.turns, self.count_turns))\n",
        "        # get reward\n",
        "        try:\n",
        "            self.label = label_function(self.bytez)\n",
        "        except interface.ClassificationFailure:\n",
        "            print(\"Failed to classify file\")\n",
        "            episode_over = True\n",
        "        else:\n",
        "            self.observation_space = self.feature_extractor.extract(self.bytez)\n",
        "            if self.label == 0:\n",
        "                # we win!\n",
        "                reward = 10.0 # !! a strong reward\n",
        "                self.count_won_episodes += 1\n",
        "                # aggiornamento della tabella delle potenzialita' delle azioni nel caso di vittoria\n",
        "                self._table_update(reward, self.turns, self.history[self.sha256]['actions'])\n",
        "\n",
        "                episode_over = True\n",
        "                self.history[self.sha256]['evaded'] = True\n",
        "\n",
        "                # store sample to output directory\n",
        "                m = hashlib.sha256()\n",
        "                m.update( self.bytez )\n",
        "                sha256 = m.hexdigest()\n",
        "                self.history[self.sha256]['evaded_sha256'] = sha256\n",
        "                \n",
        "                with open( os.path.join( self.output_path, sha256), 'wb') as outfile:\n",
        "                    outfile.write( self.bytez )\n",
        "            elif self.turns >= self.maxturns:\n",
        "                # out of turns :(\n",
        "                reward = 0\n",
        "\n",
        "                # aggiornamento della tabella delle potenzialita' delle azioni nel caso di sconfitta\n",
        "                #self._table_update(reward, self.turns, self.history[self.sha256]['actions'])\n",
        "                episode_over = True\n",
        "\n",
        "            else:\n",
        "                # utilizzo della tabella delle potenzialita' per determinare un reward intermedio\n",
        "                print(ACTION_LOOKUP[action_index])\n",
        "                reward = self.actions_table_normalized[ACTION_LOOKUP[action_index]]\n",
        "                print(\"intermediate reward:\", reward)\n",
        "                episode_over = False\n",
        "\n",
        "        if episode_over:\n",
        "            print(\"episode is over: reward = {}!\".format(reward))\n",
        "            # diego: si scrive su file al termine dell'episodio lo storico del sample\n",
        "            with open(\"history-malware_table_env.txt\", 'a') as histories_file:\n",
        "              histories_file.write(str(self.history[self.sha256]) + \"\\n\")\n",
        "\n",
        "        return self.observation_space, reward, episode_over, {}\n",
        "\n",
        "    def _take_action(self, action_index):\n",
        "        assert action_index < len(ACTION_LOOKUP)\n",
        "        action = ACTION_LOOKUP[action_index]\n",
        "        print(action)\n",
        "        self.history[self.sha256]['actions'].append(action)\n",
        "        self.bytez = bytes( manipulate.modify_without_breaking(self.bytez, [action]))\n",
        "\n",
        "    def _reset(self):\n",
        "        self.turns = 0\n",
        "        self.count_episodes += 1\n",
        "        print(\"NUMERO DI EPISODI:\", self.count_episodes)\n",
        "        while True:\n",
        "            # get the new environment\n",
        "            if self.random_sample:\n",
        "                self.sha256 = random.choice(self.available_sha256)\n",
        "            else: # draw a sample at random\n",
        "                self.sha256 = self.available_sha256[ self.sample_iteration_index % len(self.available_sha256) ]\n",
        "                self.sample_iteration_index += 1\n",
        "\n",
        "            self.history[self.sha256] = {'actions': [], 'evaded': False}\n",
        "            if self.cache:\n",
        "                self.bytez = self.samples[self.sha256]\n",
        "            else:\n",
        "                try:\n",
        "                    self.bytez = interface.fetch_file(self.sha256)\n",
        "                except interface.FileRetrievalFailure:\n",
        "                    print(\"failed fetching file\")\n",
        "                    continue  # try a new sha256...this one can't be retrieved from storage\n",
        "\n",
        "            original_label = label_function(self.bytez)            \n",
        "            if original_label == 0:\n",
        "                # skip this one, it's already benign, and the agent will learn nothing\n",
        "                continue\n",
        "\n",
        "            print(\"new sha256: {}\".format(self.sha256))                \n",
        "\n",
        "            self.observation_space = self.feature_extractor.extract(self.bytez)\n",
        "\n",
        "            break  # we're done here\n",
        "\n",
        "        return np.asarray(self.observation_space)\n",
        "\n",
        "    def _render(self, mode='human', close=False):\n",
        "        pass"
      ],
      "metadata": {
        "id": "lek5_exAAqew"
      },
      "execution_count": null,
      "outputs": []
    },
    {
      "cell_type": "markdown",
      "source": [
        "### *Risultati*"
      ],
      "metadata": {
        "id": "4zvuayE9BdED"
      }
    },
    {
      "cell_type": "code",
      "source": [
        "filename = \"/content/drive/MyDrive/k-fold_crossvalidation-kerasrl-malware-table-v0-2022-12-06.cvs\""
      ],
      "metadata": {
        "id": "50aJiZB2JbIi"
      },
      "execution_count": 17,
      "outputs": []
    },
    {
      "cell_type": "code",
      "source": [
        "data = get_results(filename)\n",
        "arr_accuracy = np.array(get_accuracy(data))\n",
        "avg_table_accuracy = np.average(arr_accuracy)"
      ],
      "metadata": {
        "id": "G9n0V7ZwJbIi"
      },
      "execution_count": 18,
      "outputs": []
    },
    {
      "cell_type": "code",
      "source": [
        "print(\"Accuracy:\")\n",
        "for i in range(0, len(arr_accuracy)):\n",
        "  print(\"-> n.{}: {}% ({})\".format(i, np.round(arr_accuracy[i]*100, decimals=2), arr_accuracy[i]))\n",
        "print(\"Average accuracy: {}% ({})\".format(np.round(avg_table_accuracy*100, decimals=2), avg_table_accuracy))"
      ],
      "metadata": {
        "colab": {
          "base_uri": "https://localhost:8080/"
        },
        "outputId": "f193310c-874f-44fa-bcd5-42af7154c157",
        "id": "8t79ofqqJbIi"
      },
      "execution_count": 19,
      "outputs": [
        {
          "output_type": "stream",
          "name": "stdout",
          "text": [
            "Accuracy:\n",
            "-> n.0: 25.34% (0.2534246575342466)\n",
            "-> n.1: 0.0% (0.0)\n",
            "-> n.2: 25.16% (0.25161290322580643)\n",
            "-> n.3: 31.9% (0.31901840490797545)\n",
            "-> n.4: 14.86% (0.14864864864864866)\n",
            "Average accuracy: 19.45% (0.1945409228633354)\n"
          ]
        }
      ]
    },
    {
      "cell_type": "code",
      "source": [
        "plot_bar_acc(arr_accuracy)"
      ],
      "metadata": {
        "colab": {
          "base_uri": "https://localhost:8080/",
          "height": 0
        },
        "outputId": "3156f325-06c8-4cc4-8264-91b58dae32f6",
        "id": "G-3FtSC-JbIj"
      },
      "execution_count": 20,
      "outputs": [
        {
          "output_type": "display_data",
          "data": {
            "text/plain": [
              "<Figure size 432x288 with 1 Axes>"
            ],
            "image/png": "[encoded data removed]"
          },
          "metadata": {
            "needs_background": "light"
          }
        }
      ]
    },
    {
      "cell_type": "markdown",
      "source": [
        "## **`malware-table-scaled-v0`**\n",
        "A differenza della versione `table` questo environment scala il reward intermedio di un fattore $α=0,1$, limitando così l'effetto della `actions_table`.\n",
        "Pertanto: \\\\\n",
        "    → ```win reward```: ```10```; \\\\\n",
        "    → ```lose reward```: ```0```; \\\\\n",
        "    → ```intermediate reward```: ```alpha * actions_table[action]```; \\\\"
      ],
      "metadata": {
        "id": "4Al70lc3J9w6"
      }
    },
    {
      "cell_type": "markdown",
      "source": [
        "### *Risultati*"
      ],
      "metadata": {
        "id": "G-bTpQdOLum5"
      }
    },
    {
      "cell_type": "code",
      "source": [
        "filename = \"/content/drive/MyDrive/k-fold_crossvalidation-kerasrl-malware-table-scaled-v0-2022-12-09.cvs\""
      ],
      "metadata": {
        "id": "rSKjnbVpKGsm"
      },
      "execution_count": 21,
      "outputs": []
    },
    {
      "cell_type": "code",
      "source": [
        "data = get_results(filename)\n",
        "arr_accuracy = np.array(get_accuracy(data))\n",
        "avg_table_scaled_accuracy = np.average(arr_accuracy)"
      ],
      "metadata": {
        "id": "g4r1uOqBKGsm"
      },
      "execution_count": 22,
      "outputs": []
    },
    {
      "cell_type": "code",
      "source": [
        "print(\"Accuracy:\")\n",
        "for i in range(0, len(arr_accuracy)):\n",
        "  print(\"-> n.{}: {}% ({})\".format(i, np.round(arr_accuracy[i]*100, decimals=2), arr_accuracy[i]))\n",
        "print(\"Average accuracy: {}% ({})\".format(np.round(avg_table_scaled_accuracy*100, decimals=2), avg_table_scaled_accuracy))"
      ],
      "metadata": {
        "colab": {
          "base_uri": "https://localhost:8080/"
        },
        "outputId": "b75d582f-6bc7-4f13-e88e-7ae00fe0363e",
        "id": "d60m_qrzKGsm"
      },
      "execution_count": 23,
      "outputs": [
        {
          "output_type": "stream",
          "name": "stdout",
          "text": [
            "Accuracy:\n",
            "-> n.0: 43.79% (0.43790849673202614)\n",
            "-> n.1: 34.9% (0.348993288590604)\n",
            "-> n.2: 39.38% (0.39375)\n",
            "-> n.3: 0.0% (0.0)\n",
            "-> n.4: 27.52% (0.2751677852348993)\n",
            "Average accuracy: 29.12% (0.2911639141115059)\n"
          ]
        }
      ]
    },
    {
      "cell_type": "code",
      "source": [
        "plot_bar_acc(arr_accuracy)"
      ],
      "metadata": {
        "colab": {
          "base_uri": "https://localhost:8080/",
          "height": 0
        },
        "outputId": "654eefb2-819e-4c26-ba1d-f9430e342bdc",
        "id": "RFTWmRoZKGsm"
      },
      "execution_count": 24,
      "outputs": [
        {
          "output_type": "display_data",
          "data": {
            "text/plain": [
              "<Figure size 432x288 with 1 Axes>"
            ],
            "image/png": "[encoded data removed]"
          },
          "metadata": {
            "needs_background": "light"
          }
        }
      ]
    },
    {
      "cell_type": "markdown",
      "source": [
        "## **`malware-table-softmax-v0`**\n",
        "In questo environment anziché effettuare il rapporto tra gli episodi vincenti in cui è presente l'*action* in questione e il totale degli episodi vincenti, si è utilizzata la **funzione softmax**, distribuendo i valori associati alle singole azioni in un intervallo da $[0,1)$ *accentuando le azioni più statisticamente vincenti*"
      ],
      "metadata": {
        "id": "uwlg6IlWKnyU"
      }
    },
    {
      "cell_type": "markdown",
      "source": [
        "### *Risultati*"
      ],
      "metadata": {
        "id": "QjluRuOVMqk6"
      }
    },
    {
      "cell_type": "code",
      "source": [
        "filename = \"/content/drive/MyDrive/k-fold_crossvalidation-kerasrl-malware-table-softmax-v0-2022-12-09.cvs\""
      ],
      "metadata": {
        "id": "2wepPSspKxHS"
      },
      "execution_count": 25,
      "outputs": []
    },
    {
      "cell_type": "code",
      "source": [
        "data = get_results(filename)\n",
        "arr_accuracy = np.array(get_accuracy(data))\n",
        "avg_table_softmax_accuracy = np.average(arr_accuracy)"
      ],
      "metadata": {
        "id": "iCQq1FN-KxHT"
      },
      "execution_count": 26,
      "outputs": []
    },
    {
      "cell_type": "code",
      "source": [
        "print(\"Accuracy:\")\n",
        "for i in range(0, len(arr_accuracy)):\n",
        "  print(\"-> n.{}: {}% ({})\".format(i, np.round(arr_accuracy[i]*100, decimals=2), arr_accuracy[i]))\n",
        "print(\"Average accuracy: {}% ({})\".format(np.round(avg_table_softmax_accuracy*100, decimals=2), avg_table_softmax_accuracy))"
      ],
      "metadata": {
        "colab": {
          "base_uri": "https://localhost:8080/"
        },
        "outputId": "66fc9487-7a7a-49b1-db19-6d66bc54a7b8",
        "id": "zDOq8573KxHT"
      },
      "execution_count": 27,
      "outputs": [
        {
          "output_type": "stream",
          "name": "stdout",
          "text": [
            "Accuracy:\n",
            "-> n.0: 34.87% (0.34868421052631576)\n",
            "-> n.1: 22.3% (0.22297297297297297)\n",
            "-> n.2: 1.32% (0.013157894736842105)\n",
            "-> n.3: 37.58% (0.37575757575757573)\n",
            "-> n.4: 39.22% (0.39215686274509803)\n",
            "-> n.5: 28.86% (0.28859060402684567)\n",
            "Average accuracy: 27.36% (0.27355335346094173)\n"
          ]
        }
      ]
    },
    {
      "cell_type": "code",
      "source": [
        "plot_bar_acc(arr_accuracy)"
      ],
      "metadata": {
        "colab": {
          "base_uri": "https://localhost:8080/",
          "height": 0
        },
        "outputId": "7b0c57e1-517b-472f-8a87-65eb99df2db4",
        "id": "zvzO3xswKxHU"
      },
      "execution_count": 28,
      "outputs": [
        {
          "output_type": "display_data",
          "data": {
            "text/plain": [
              "<Figure size 432x288 with 1 Axes>"
            ],
            "image/png": "[encoded data removed]"
          },
          "metadata": {
            "needs_background": "light"
          }
        }
      ]
    },
    {
      "cell_type": "markdown",
      "source": [
        "## Conclusione"
      ],
      "metadata": {
        "id": "DvetR9O3Mx03"
      }
    },
    {
      "cell_type": "code",
      "source": [
        "print(\"MALWARE ENV ACCURACY: {}% ({})\".format(np.round(avg_accuracy*100, decimals=2), avg_accuracy))\n",
        "print(\"MALWARE SCORE ENV ACCURACY: {}% ({})\".format(np.round(avg_score_accuracy*100, decimals=2), avg_score_accuracy))\n",
        "print(\"MALWARE TABLE ENV ACCURACY: {}% ({})\".format(np.round(avg_table_accuracy*100, decimals=2), avg_table_accuracy))\n",
        "print(\"MALWARE TABLE SCALED ENV ACCURACY: {}% ({})\".format(np.round(avg_table_scaled_accuracy*100, decimals=2), avg_table_scaled_accuracy))\n",
        "print(\"MALWARE TABLE SOFTMAX ENV ACCURACY: {}% ({})\".format(np.round(avg_table_softmax_accuracy*100, decimals=2), avg_table_softmax_accuracy))"
      ],
      "metadata": {
        "colab": {
          "base_uri": "https://localhost:8080/"
        },
        "id": "G32czSpqMz0X",
        "outputId": "915798f4-2edd-4961-f618-3450c0c66545"
      },
      "execution_count": 30,
      "outputs": [
        {
          "output_type": "stream",
          "name": "stdout",
          "text": [
            "MALWARE ENV ACCURACY: 30.25% (0.3024607211694729)\n",
            "MALWARE SCORE ENV ACCURACY: 26.97% (0.26970355674627966)\n",
            "MALWARE TABLE ENV ACCURACY: 19.45% (0.1945409228633354)\n",
            "MALWARE TABLE SCALED ENV ACCURACY: 29.12% (0.2911639141115059)\n",
            "MALWARE TABLE SOFTMAX ENV ACCURACY: 27.36% (0.27355335346094173)\n"
          ]
        }
      ]
    }
  ]
}